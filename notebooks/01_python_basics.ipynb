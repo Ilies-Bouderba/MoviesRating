{
 "cells": [
  {
   "cell_type": "code",
   "execution_count": 369,
   "id": "772c8ad3",
   "metadata": {},
   "outputs": [],
   "source": [
    "import pandas as pd\n",
    "\n",
    "df = pd.DataFrame([[1, 1, 1], [1, 2, 3], [3, 2, 1]], columns=[\"A\", \"B\", \"C\"], index=[\"X\", \"Y\", \"Z\"])"
   ]
  },
  {
   "cell_type": "code",
   "execution_count": 370,
   "id": "de835669",
   "metadata": {},
   "outputs": [
    {
     "data": {
      "application/vnd.microsoft.datawrangler.viewer.v0+json": {
       "columns": [
        {
         "name": "index",
         "rawType": "object",
         "type": "string"
        },
        {
         "name": "A",
         "rawType": "int64",
         "type": "integer"
        },
        {
         "name": "B",
         "rawType": "int64",
         "type": "integer"
        },
        {
         "name": "C",
         "rawType": "int64",
         "type": "integer"
        }
       ],
       "ref": "ed93e634-3f33-4b31-8207-fa509a0d8b95",
       "rows": [
        [
         "Z",
         "3",
         "2",
         "1"
        ]
       ],
       "shape": {
        "columns": 3,
        "rows": 1
       }
      },
      "text/html": [
       "<div>\n",
       "<style scoped>\n",
       "    .dataframe tbody tr th:only-of-type {\n",
       "        vertical-align: middle;\n",
       "    }\n",
       "\n",
       "    .dataframe tbody tr th {\n",
       "        vertical-align: top;\n",
       "    }\n",
       "\n",
       "    .dataframe thead th {\n",
       "        text-align: right;\n",
       "    }\n",
       "</style>\n",
       "<table border=\"1\" class=\"dataframe\">\n",
       "  <thead>\n",
       "    <tr style=\"text-align: right;\">\n",
       "      <th></th>\n",
       "      <th>A</th>\n",
       "      <th>B</th>\n",
       "      <th>C</th>\n",
       "    </tr>\n",
       "  </thead>\n",
       "  <tbody>\n",
       "    <tr>\n",
       "      <th>Z</th>\n",
       "      <td>3</td>\n",
       "      <td>2</td>\n",
       "      <td>1</td>\n",
       "    </tr>\n",
       "  </tbody>\n",
       "</table>\n",
       "</div>"
      ],
      "text/plain": [
       "   A  B  C\n",
       "Z  3  2  1"
      ]
     },
     "execution_count": 370,
     "metadata": {},
     "output_type": "execute_result"
    }
   ],
   "source": [
    "df.tail(1)"
   ]
  },
  {
   "cell_type": "code",
   "execution_count": 371,
   "id": "0bc3594d",
   "metadata": {},
   "outputs": [
    {
     "data": {
      "text/plain": [
       "Index(['A', 'B', 'C'], dtype='object')"
      ]
     },
     "execution_count": 371,
     "metadata": {},
     "output_type": "execute_result"
    }
   ],
   "source": [
    "df.columns"
   ]
  },
  {
   "cell_type": "code",
   "execution_count": 372,
   "id": "833b71d7",
   "metadata": {},
   "outputs": [
    {
     "data": {
      "text/plain": [
       "['X', 'Y', 'Z']"
      ]
     },
     "execution_count": 372,
     "metadata": {},
     "output_type": "execute_result"
    }
   ],
   "source": [
    "df.index.tolist()"
   ]
  },
  {
   "cell_type": "code",
   "execution_count": 373,
   "id": "08568e43",
   "metadata": {},
   "outputs": [
    {
     "name": "stdout",
     "output_type": "stream",
     "text": [
      "<class 'pandas.core.frame.DataFrame'>\n",
      "Index: 3 entries, X to Z\n",
      "Data columns (total 3 columns):\n",
      " #   Column  Non-Null Count  Dtype\n",
      "---  ------  --------------  -----\n",
      " 0   A       3 non-null      int64\n",
      " 1   B       3 non-null      int64\n",
      " 2   C       3 non-null      int64\n",
      "dtypes: int64(3)\n",
      "memory usage: 96.0+ bytes\n"
     ]
    }
   ],
   "source": [
    "df.info()"
   ]
  },
  {
   "cell_type": "code",
   "execution_count": 374,
   "id": "27bf009c",
   "metadata": {},
   "outputs": [
    {
     "data": {
      "application/vnd.microsoft.datawrangler.viewer.v0+json": {
       "columns": [
        {
         "name": "index",
         "rawType": "object",
         "type": "string"
        },
        {
         "name": "0",
         "rawType": "int64",
         "type": "integer"
        }
       ],
       "ref": "2b6f34e1-3507-4c2e-9a96-ff34b15db0b9",
       "rows": [
        [
         "A",
         "2"
        ],
        [
         "B",
         "2"
        ],
        [
         "C",
         "2"
        ]
       ],
       "shape": {
        "columns": 1,
        "rows": 3
       }
      },
      "text/plain": [
       "A    2\n",
       "B    2\n",
       "C    2\n",
       "dtype: int64"
      ]
     },
     "execution_count": 374,
     "metadata": {},
     "output_type": "execute_result"
    }
   ],
   "source": [
    "df.nunique()"
   ]
  },
  {
   "cell_type": "code",
   "execution_count": 375,
   "id": "91e1a9d5",
   "metadata": {},
   "outputs": [
    {
     "data": {
      "application/vnd.microsoft.datawrangler.viewer.v0+json": {
       "columns": [
        {
         "name": "index",
         "rawType": "object",
         "type": "string"
        },
        {
         "name": "A",
         "rawType": "float64",
         "type": "float"
        },
        {
         "name": "B",
         "rawType": "float64",
         "type": "float"
        },
        {
         "name": "C",
         "rawType": "float64",
         "type": "float"
        }
       ],
       "ref": "3f12a714-09f3-43c9-be00-0a221f3ea9df",
       "rows": [
        [
         "count",
         "3.0",
         "3.0",
         "3.0"
        ],
        [
         "mean",
         "1.6666666666666667",
         "1.6666666666666667",
         "1.6666666666666667"
        ],
        [
         "std",
         "1.1547005383792517",
         "0.5773502691896257",
         "1.1547005383792517"
        ],
        [
         "min",
         "1.0",
         "1.0",
         "1.0"
        ],
        [
         "25%",
         "1.0",
         "1.5",
         "1.0"
        ],
        [
         "50%",
         "1.0",
         "2.0",
         "1.0"
        ],
        [
         "75%",
         "2.0",
         "2.0",
         "2.0"
        ],
        [
         "max",
         "3.0",
         "2.0",
         "3.0"
        ]
       ],
       "shape": {
        "columns": 3,
        "rows": 8
       }
      },
      "text/html": [
       "<div>\n",
       "<style scoped>\n",
       "    .dataframe tbody tr th:only-of-type {\n",
       "        vertical-align: middle;\n",
       "    }\n",
       "\n",
       "    .dataframe tbody tr th {\n",
       "        vertical-align: top;\n",
       "    }\n",
       "\n",
       "    .dataframe thead th {\n",
       "        text-align: right;\n",
       "    }\n",
       "</style>\n",
       "<table border=\"1\" class=\"dataframe\">\n",
       "  <thead>\n",
       "    <tr style=\"text-align: right;\">\n",
       "      <th></th>\n",
       "      <th>A</th>\n",
       "      <th>B</th>\n",
       "      <th>C</th>\n",
       "    </tr>\n",
       "  </thead>\n",
       "  <tbody>\n",
       "    <tr>\n",
       "      <th>count</th>\n",
       "      <td>3.000000</td>\n",
       "      <td>3.000000</td>\n",
       "      <td>3.000000</td>\n",
       "    </tr>\n",
       "    <tr>\n",
       "      <th>mean</th>\n",
       "      <td>1.666667</td>\n",
       "      <td>1.666667</td>\n",
       "      <td>1.666667</td>\n",
       "    </tr>\n",
       "    <tr>\n",
       "      <th>std</th>\n",
       "      <td>1.154701</td>\n",
       "      <td>0.577350</td>\n",
       "      <td>1.154701</td>\n",
       "    </tr>\n",
       "    <tr>\n",
       "      <th>min</th>\n",
       "      <td>1.000000</td>\n",
       "      <td>1.000000</td>\n",
       "      <td>1.000000</td>\n",
       "    </tr>\n",
       "    <tr>\n",
       "      <th>25%</th>\n",
       "      <td>1.000000</td>\n",
       "      <td>1.500000</td>\n",
       "      <td>1.000000</td>\n",
       "    </tr>\n",
       "    <tr>\n",
       "      <th>50%</th>\n",
       "      <td>1.000000</td>\n",
       "      <td>2.000000</td>\n",
       "      <td>1.000000</td>\n",
       "    </tr>\n",
       "    <tr>\n",
       "      <th>75%</th>\n",
       "      <td>2.000000</td>\n",
       "      <td>2.000000</td>\n",
       "      <td>2.000000</td>\n",
       "    </tr>\n",
       "    <tr>\n",
       "      <th>max</th>\n",
       "      <td>3.000000</td>\n",
       "      <td>2.000000</td>\n",
       "      <td>3.000000</td>\n",
       "    </tr>\n",
       "  </tbody>\n",
       "</table>\n",
       "</div>"
      ],
      "text/plain": [
       "              A         B         C\n",
       "count  3.000000  3.000000  3.000000\n",
       "mean   1.666667  1.666667  1.666667\n",
       "std    1.154701  0.577350  1.154701\n",
       "min    1.000000  1.000000  1.000000\n",
       "25%    1.000000  1.500000  1.000000\n",
       "50%    1.000000  2.000000  1.000000\n",
       "75%    2.000000  2.000000  2.000000\n",
       "max    3.000000  2.000000  3.000000"
      ]
     },
     "execution_count": 375,
     "metadata": {},
     "output_type": "execute_result"
    }
   ],
   "source": [
    "df.describe()"
   ]
  },
  {
   "cell_type": "code",
   "execution_count": 376,
   "id": "0288efef",
   "metadata": {},
   "outputs": [
    {
     "data": {
      "text/plain": [
       "['X', 'Y', 'Z']"
      ]
     },
     "execution_count": 376,
     "metadata": {},
     "output_type": "execute_result"
    }
   ],
   "source": [
    "df['A'].index.tolist()"
   ]
  },
  {
   "cell_type": "code",
   "execution_count": 377,
   "id": "f412c2f7",
   "metadata": {},
   "outputs": [
    {
     "data": {
      "text/plain": [
       "(3, 3)"
      ]
     },
     "execution_count": 377,
     "metadata": {},
     "output_type": "execute_result"
    }
   ],
   "source": [
    "df.shape"
   ]
  },
  {
   "cell_type": "code",
   "execution_count": 378,
   "id": "9178ddd8",
   "metadata": {},
   "outputs": [
    {
     "data": {
      "text/plain": [
       "9"
      ]
     },
     "execution_count": 378,
     "metadata": {},
     "output_type": "execute_result"
    }
   ],
   "source": [
    "df.size"
   ]
  },
  {
   "cell_type": "code",
   "execution_count": 379,
   "id": "ddbd74bb",
   "metadata": {},
   "outputs": [],
   "source": [
    "movies = pd.read_csv('../data/raw/movies.csv')"
   ]
  },
  {
   "cell_type": "code",
   "execution_count": 380,
   "id": "0c8c7784",
   "metadata": {},
   "outputs": [
    {
     "data": {
      "application/vnd.microsoft.datawrangler.viewer.v0+json": {
       "columns": [
        {
         "name": "index",
         "rawType": "int64",
         "type": "integer"
        },
        {
         "name": "movieId",
         "rawType": "int64",
         "type": "integer"
        },
        {
         "name": "title",
         "rawType": "object",
         "type": "string"
        },
        {
         "name": "genres",
         "rawType": "object",
         "type": "string"
        }
       ],
       "ref": "956be9ec-62d3-48e3-95ea-98c3d439f4e9",
       "rows": [
        [
         "0",
         "1",
         "Naruto",
         "Action"
        ],
        [
         "1",
         "2",
         "Jumanji (1995)",
         "Adventure|Children|Fantasy"
        ],
        [
         "2",
         "3",
         "Grumpier Old Men (1995)",
         "Comedy|Romance"
        ],
        [
         "3",
         "4",
         "Waiting to Exhale (1995)",
         "Comedy|Drama|Romance"
        ],
        [
         "4",
         "5",
         "Father of the Bride Part II (1995)",
         "Comedy"
        ]
       ],
       "shape": {
        "columns": 3,
        "rows": 5
       }
      },
      "text/html": [
       "<div>\n",
       "<style scoped>\n",
       "    .dataframe tbody tr th:only-of-type {\n",
       "        vertical-align: middle;\n",
       "    }\n",
       "\n",
       "    .dataframe tbody tr th {\n",
       "        vertical-align: top;\n",
       "    }\n",
       "\n",
       "    .dataframe thead th {\n",
       "        text-align: right;\n",
       "    }\n",
       "</style>\n",
       "<table border=\"1\" class=\"dataframe\">\n",
       "  <thead>\n",
       "    <tr style=\"text-align: right;\">\n",
       "      <th></th>\n",
       "      <th>movieId</th>\n",
       "      <th>title</th>\n",
       "      <th>genres</th>\n",
       "    </tr>\n",
       "  </thead>\n",
       "  <tbody>\n",
       "    <tr>\n",
       "      <th>0</th>\n",
       "      <td>1</td>\n",
       "      <td>Naruto</td>\n",
       "      <td>Action</td>\n",
       "    </tr>\n",
       "    <tr>\n",
       "      <th>1</th>\n",
       "      <td>2</td>\n",
       "      <td>Jumanji (1995)</td>\n",
       "      <td>Adventure|Children|Fantasy</td>\n",
       "    </tr>\n",
       "    <tr>\n",
       "      <th>2</th>\n",
       "      <td>3</td>\n",
       "      <td>Grumpier Old Men (1995)</td>\n",
       "      <td>Comedy|Romance</td>\n",
       "    </tr>\n",
       "    <tr>\n",
       "      <th>3</th>\n",
       "      <td>4</td>\n",
       "      <td>Waiting to Exhale (1995)</td>\n",
       "      <td>Comedy|Drama|Romance</td>\n",
       "    </tr>\n",
       "    <tr>\n",
       "      <th>4</th>\n",
       "      <td>5</td>\n",
       "      <td>Father of the Bride Part II (1995)</td>\n",
       "      <td>Comedy</td>\n",
       "    </tr>\n",
       "  </tbody>\n",
       "</table>\n",
       "</div>"
      ],
      "text/plain": [
       "   movieId                               title                      genres\n",
       "0        1                              Naruto                      Action\n",
       "1        2                      Jumanji (1995)  Adventure|Children|Fantasy\n",
       "2        3             Grumpier Old Men (1995)              Comedy|Romance\n",
       "3        4            Waiting to Exhale (1995)        Comedy|Drama|Romance\n",
       "4        5  Father of the Bride Part II (1995)                      Comedy"
      ]
     },
     "execution_count": 380,
     "metadata": {},
     "output_type": "execute_result"
    }
   ],
   "source": [
    "movies.head()"
   ]
  },
  {
   "cell_type": "code",
   "execution_count": 381,
   "id": "32e7bd3b",
   "metadata": {},
   "outputs": [
    {
     "data": {
      "application/vnd.microsoft.datawrangler.viewer.v0+json": {
       "columns": [
        {
         "name": "index",
         "rawType": "int64",
         "type": "integer"
        },
        {
         "name": "movieId",
         "rawType": "int64",
         "type": "integer"
        },
        {
         "name": "title",
         "rawType": "object",
         "type": "string"
        },
        {
         "name": "genres",
         "rawType": "object",
         "type": "string"
        }
       ],
       "ref": "b5f6b314-14a5-4d26-bd6d-1f0fd3069fea",
       "rows": [
        [
         "0",
         "1",
         "Naruto",
         "Action"
        ],
        [
         "1",
         "2",
         "Jumanji (1995)",
         "Adventure|Children|Fantasy"
        ],
        [
         "2",
         "3",
         "Grumpier Old Men (1995)",
         "Comedy|Romance"
        ],
        [
         "3",
         "4",
         "Waiting to Exhale (1995)",
         "Comedy|Drama|Romance"
        ],
        [
         "4",
         "5",
         "Father of the Bride Part II (1995)",
         "Comedy"
        ],
        [
         "5",
         "6",
         "Heat (1995)",
         "Action|Crime|Thriller"
        ],
        [
         "6",
         "7",
         "Sabrina (1995)",
         "Comedy|Romance"
        ],
        [
         "7",
         "8",
         "Tom and Huck (1995)",
         "Adventure|Children"
        ],
        [
         "8",
         "9",
         "Sudden Death (1995)",
         "Action"
        ],
        [
         "9",
         "10",
         "GoldenEye (1995)",
         "Action|Adventure|Thriller"
        ],
        [
         "10",
         "11",
         "American President, The (1995)",
         "Comedy|Drama|Romance"
        ],
        [
         "11",
         "12",
         "Dracula: Dead and Loving It (1995)",
         "Comedy|Horror"
        ],
        [
         "12",
         "13",
         "Balto (1995)",
         "Adventure|Animation|Children"
        ],
        [
         "13",
         "14",
         "Nixon (1995)",
         "Drama"
        ],
        [
         "14",
         "15",
         "Cutthroat Island (1995)",
         "Action|Adventure|Romance"
        ],
        [
         "15",
         "16",
         "Casino (1995)",
         "Crime|Drama"
        ],
        [
         "16",
         "17",
         "Sense and Sensibility (1995)",
         "Drama|Romance"
        ],
        [
         "17",
         "18",
         "Four Rooms (1995)",
         "Comedy"
        ],
        [
         "18",
         "19",
         "Ace Ventura: When Nature Calls (1995)",
         "Comedy"
        ],
        [
         "19",
         "20",
         "Money Train (1995)",
         "Action|Comedy|Crime|Drama|Thriller"
        ],
        [
         "20",
         "21",
         "Get Shorty (1995)",
         "Comedy|Crime|Thriller"
        ],
        [
         "21",
         "22",
         "Copycat (1995)",
         "Crime|Drama|Horror|Mystery|Thriller"
        ],
        [
         "22",
         "23",
         "Assassins (1995)",
         "Action|Crime|Thriller"
        ],
        [
         "23",
         "24",
         "Powder (1995)",
         "Drama|Sci-Fi"
        ],
        [
         "24",
         "25",
         "Leaving Las Vegas (1995)",
         "Drama|Romance"
        ],
        [
         "25",
         "26",
         "Othello (1995)",
         "Drama"
        ],
        [
         "26",
         "27",
         "Now and Then (1995)",
         "Children|Drama"
        ],
        [
         "27",
         "28",
         "Persuasion (1995)",
         "Drama|Romance"
        ],
        [
         "28",
         "29",
         "City of Lost Children, The (Cité des enfants perdus, La) (1995)",
         "Adventure|Drama|Fantasy|Mystery|Sci-Fi"
        ],
        [
         "29",
         "30",
         "Shanghai Triad (Yao a yao yao dao waipo qiao) (1995)",
         "Crime|Drama"
        ],
        [
         "30",
         "31",
         "Dangerous Minds (1995)",
         "Drama"
        ],
        [
         "31",
         "32",
         "Twelve Monkeys (a.k.a. 12 Monkeys) (1995)",
         "Mystery|Sci-Fi|Thriller"
        ],
        [
         "32",
         "34",
         "Babe (1995)",
         "Children|Drama"
        ],
        [
         "33",
         "36",
         "Dead Man Walking (1995)",
         "Crime|Drama"
        ],
        [
         "34",
         "38",
         "It Takes Two (1995)",
         "Children|Comedy"
        ],
        [
         "35",
         "39",
         "Clueless (1995)",
         "Comedy|Romance"
        ],
        [
         "36",
         "40",
         "Cry, the Beloved Country (1995)",
         "Drama"
        ],
        [
         "37",
         "41",
         "Richard III (1995)",
         "Drama|War"
        ],
        [
         "38",
         "42",
         "Dead Presidents (1995)",
         "Action|Crime|Drama"
        ],
        [
         "39",
         "43",
         "Restoration (1995)",
         "Drama"
        ],
        [
         "40",
         "44",
         "Mortal Kombat (1995)",
         "Action|Adventure|Fantasy"
        ],
        [
         "41",
         "45",
         "To Die For (1995)",
         "Comedy|Drama|Thriller"
        ],
        [
         "42",
         "46",
         "How to Make an American Quilt (1995)",
         "Drama|Romance"
        ],
        [
         "43",
         "47",
         "Seven (a.k.a. Se7en) (1995)",
         "Mystery|Thriller"
        ],
        [
         "44",
         "48",
         "Pocahontas (1995)",
         "Animation|Children|Drama|Musical|Romance"
        ],
        [
         "45",
         "49",
         "When Night Is Falling (1995)",
         "Drama|Romance"
        ],
        [
         "46",
         "50",
         "Usual Suspects, The (1995)",
         "Crime|Mystery|Thriller"
        ],
        [
         "47",
         "52",
         "Mighty Aphrodite (1995)",
         "Comedy|Drama|Romance"
        ],
        [
         "48",
         "53",
         "Lamerica (1994)",
         "Adventure|Drama"
        ],
        [
         "49",
         "54",
         "Big Green, The (1995)",
         "Children|Comedy"
        ]
       ],
       "shape": {
        "columns": 3,
        "rows": 9742
       }
      },
      "text/html": [
       "<div>\n",
       "<style scoped>\n",
       "    .dataframe tbody tr th:only-of-type {\n",
       "        vertical-align: middle;\n",
       "    }\n",
       "\n",
       "    .dataframe tbody tr th {\n",
       "        vertical-align: top;\n",
       "    }\n",
       "\n",
       "    .dataframe thead th {\n",
       "        text-align: right;\n",
       "    }\n",
       "</style>\n",
       "<table border=\"1\" class=\"dataframe\">\n",
       "  <thead>\n",
       "    <tr style=\"text-align: right;\">\n",
       "      <th></th>\n",
       "      <th>movieId</th>\n",
       "      <th>title</th>\n",
       "      <th>genres</th>\n",
       "    </tr>\n",
       "  </thead>\n",
       "  <tbody>\n",
       "    <tr>\n",
       "      <th>0</th>\n",
       "      <td>1</td>\n",
       "      <td>Naruto</td>\n",
       "      <td>Action</td>\n",
       "    </tr>\n",
       "    <tr>\n",
       "      <th>1</th>\n",
       "      <td>2</td>\n",
       "      <td>Jumanji (1995)</td>\n",
       "      <td>Adventure|Children|Fantasy</td>\n",
       "    </tr>\n",
       "    <tr>\n",
       "      <th>2</th>\n",
       "      <td>3</td>\n",
       "      <td>Grumpier Old Men (1995)</td>\n",
       "      <td>Comedy|Romance</td>\n",
       "    </tr>\n",
       "    <tr>\n",
       "      <th>3</th>\n",
       "      <td>4</td>\n",
       "      <td>Waiting to Exhale (1995)</td>\n",
       "      <td>Comedy|Drama|Romance</td>\n",
       "    </tr>\n",
       "    <tr>\n",
       "      <th>4</th>\n",
       "      <td>5</td>\n",
       "      <td>Father of the Bride Part II (1995)</td>\n",
       "      <td>Comedy</td>\n",
       "    </tr>\n",
       "    <tr>\n",
       "      <th>...</th>\n",
       "      <td>...</td>\n",
       "      <td>...</td>\n",
       "      <td>...</td>\n",
       "    </tr>\n",
       "    <tr>\n",
       "      <th>9737</th>\n",
       "      <td>193581</td>\n",
       "      <td>Black Butler: Book of the Atlantic (2017)</td>\n",
       "      <td>Action|Animation|Comedy|Fantasy</td>\n",
       "    </tr>\n",
       "    <tr>\n",
       "      <th>9738</th>\n",
       "      <td>193583</td>\n",
       "      <td>No Game No Life: Zero (2017)</td>\n",
       "      <td>Animation|Comedy|Fantasy</td>\n",
       "    </tr>\n",
       "    <tr>\n",
       "      <th>9739</th>\n",
       "      <td>193585</td>\n",
       "      <td>Flint (2017)</td>\n",
       "      <td>Drama</td>\n",
       "    </tr>\n",
       "    <tr>\n",
       "      <th>9740</th>\n",
       "      <td>193587</td>\n",
       "      <td>Bungo Stray Dogs: Dead Apple (2018)</td>\n",
       "      <td>Action|Animation</td>\n",
       "    </tr>\n",
       "    <tr>\n",
       "      <th>9741</th>\n",
       "      <td>193609</td>\n",
       "      <td>Andrew Dice Clay: Dice Rules (1991)</td>\n",
       "      <td>Comedy</td>\n",
       "    </tr>\n",
       "  </tbody>\n",
       "</table>\n",
       "<p>9742 rows × 3 columns</p>\n",
       "</div>"
      ],
      "text/plain": [
       "      movieId                                      title  \\\n",
       "0           1                                     Naruto   \n",
       "1           2                             Jumanji (1995)   \n",
       "2           3                    Grumpier Old Men (1995)   \n",
       "3           4                   Waiting to Exhale (1995)   \n",
       "4           5         Father of the Bride Part II (1995)   \n",
       "...       ...                                        ...   \n",
       "9737   193581  Black Butler: Book of the Atlantic (2017)   \n",
       "9738   193583               No Game No Life: Zero (2017)   \n",
       "9739   193585                               Flint (2017)   \n",
       "9740   193587        Bungo Stray Dogs: Dead Apple (2018)   \n",
       "9741   193609        Andrew Dice Clay: Dice Rules (1991)   \n",
       "\n",
       "                               genres  \n",
       "0                              Action  \n",
       "1          Adventure|Children|Fantasy  \n",
       "2                      Comedy|Romance  \n",
       "3                Comedy|Drama|Romance  \n",
       "4                              Comedy  \n",
       "...                               ...  \n",
       "9737  Action|Animation|Comedy|Fantasy  \n",
       "9738         Animation|Comedy|Fantasy  \n",
       "9739                            Drama  \n",
       "9740                 Action|Animation  \n",
       "9741                           Comedy  \n",
       "\n",
       "[9742 rows x 3 columns]"
      ]
     },
     "execution_count": 381,
     "metadata": {},
     "output_type": "execute_result"
    }
   ],
   "source": [
    "movies"
   ]
  },
  {
   "cell_type": "code",
   "execution_count": 382,
   "id": "64b6f5da",
   "metadata": {},
   "outputs": [
    {
     "data": {
      "application/vnd.microsoft.datawrangler.viewer.v0+json": {
       "columns": [
        {
         "name": "index",
         "rawType": "int64",
         "type": "integer"
        },
        {
         "name": "title",
         "rawType": "object",
         "type": "string"
        },
        {
         "name": "genres",
         "rawType": "object",
         "type": "string"
        }
       ],
       "ref": "d0b7d34f-bc03-4c15-b2f6-01653ae4f66b",
       "rows": [
        [
         "0",
         "Naruto",
         "Action"
        ],
        [
         "1",
         "Jumanji (1995)",
         "Adventure|Children|Fantasy"
        ],
        [
         "2",
         "Grumpier Old Men (1995)",
         "Comedy|Romance"
        ],
        [
         "3",
         "Waiting to Exhale (1995)",
         "Comedy|Drama|Romance"
        ],
        [
         "4",
         "Father of the Bride Part II (1995)",
         "Comedy"
        ],
        [
         "5",
         "Heat (1995)",
         "Action|Crime|Thriller"
        ]
       ],
       "shape": {
        "columns": 2,
        "rows": 6
       }
      },
      "text/html": [
       "<div>\n",
       "<style scoped>\n",
       "    .dataframe tbody tr th:only-of-type {\n",
       "        vertical-align: middle;\n",
       "    }\n",
       "\n",
       "    .dataframe tbody tr th {\n",
       "        vertical-align: top;\n",
       "    }\n",
       "\n",
       "    .dataframe thead th {\n",
       "        text-align: right;\n",
       "    }\n",
       "</style>\n",
       "<table border=\"1\" class=\"dataframe\">\n",
       "  <thead>\n",
       "    <tr style=\"text-align: right;\">\n",
       "      <th></th>\n",
       "      <th>title</th>\n",
       "      <th>genres</th>\n",
       "    </tr>\n",
       "  </thead>\n",
       "  <tbody>\n",
       "    <tr>\n",
       "      <th>0</th>\n",
       "      <td>Naruto</td>\n",
       "      <td>Action</td>\n",
       "    </tr>\n",
       "    <tr>\n",
       "      <th>1</th>\n",
       "      <td>Jumanji (1995)</td>\n",
       "      <td>Adventure|Children|Fantasy</td>\n",
       "    </tr>\n",
       "    <tr>\n",
       "      <th>2</th>\n",
       "      <td>Grumpier Old Men (1995)</td>\n",
       "      <td>Comedy|Romance</td>\n",
       "    </tr>\n",
       "    <tr>\n",
       "      <th>3</th>\n",
       "      <td>Waiting to Exhale (1995)</td>\n",
       "      <td>Comedy|Drama|Romance</td>\n",
       "    </tr>\n",
       "    <tr>\n",
       "      <th>4</th>\n",
       "      <td>Father of the Bride Part II (1995)</td>\n",
       "      <td>Comedy</td>\n",
       "    </tr>\n",
       "    <tr>\n",
       "      <th>5</th>\n",
       "      <td>Heat (1995)</td>\n",
       "      <td>Action|Crime|Thriller</td>\n",
       "    </tr>\n",
       "  </tbody>\n",
       "</table>\n",
       "</div>"
      ],
      "text/plain": [
       "                                title                      genres\n",
       "0                              Naruto                      Action\n",
       "1                      Jumanji (1995)  Adventure|Children|Fantasy\n",
       "2             Grumpier Old Men (1995)              Comedy|Romance\n",
       "3            Waiting to Exhale (1995)        Comedy|Drama|Romance\n",
       "4  Father of the Bride Part II (1995)                      Comedy\n",
       "5                         Heat (1995)       Action|Crime|Thriller"
      ]
     },
     "execution_count": 382,
     "metadata": {},
     "output_type": "execute_result"
    }
   ],
   "source": [
    "movies.loc[0:5, ['title', 'genres']]"
   ]
  },
  {
   "cell_type": "code",
   "execution_count": 383,
   "id": "516aed07",
   "metadata": {},
   "outputs": [
    {
     "name": "stdout",
     "output_type": "stream",
     "text": [
      "0                                          Naruto\n",
      "1                                  Jumanji (1995)\n",
      "2                         Grumpier Old Men (1995)\n",
      "3                        Waiting to Exhale (1995)\n",
      "4              Father of the Bride Part II (1995)\n",
      "                          ...                    \n",
      "9737    Black Butler: Book of the Atlantic (2017)\n",
      "9738                 No Game No Life: Zero (2017)\n",
      "9739                                 Flint (2017)\n",
      "9740          Bungo Stray Dogs: Dead Apple (2018)\n",
      "9741          Andrew Dice Clay: Dice Rules (1991)\n",
      "Name: title, Length: 9742, dtype: object\n"
     ]
    }
   ],
   "source": [
    "print(movies.title)"
   ]
  },
  {
   "cell_type": "code",
   "execution_count": 384,
   "id": "bac06f01",
   "metadata": {},
   "outputs": [],
   "source": [
    "movies.loc[0, ['title']] = 'Naruto'\n",
    "movies.to_csv(\"../data/raw/movies.csv\", index=False)"
   ]
  },
  {
   "cell_type": "code",
   "execution_count": 385,
   "id": "e1642aa0",
   "metadata": {},
   "outputs": [
    {
     "data": {
      "application/vnd.microsoft.datawrangler.viewer.v0+json": {
       "columns": [
        {
         "name": "index",
         "rawType": "int64",
         "type": "integer"
        },
        {
         "name": "movieId",
         "rawType": "int64",
         "type": "integer"
        },
        {
         "name": "title",
         "rawType": "object",
         "type": "string"
        },
        {
         "name": "genres",
         "rawType": "object",
         "type": "string"
        }
       ],
       "ref": "a23f5c22-fb8b-49ff-9d1e-a581bf13c988",
       "rows": [
        [
         "8600",
         "117867",
         "'71 (2014)",
         "Action|Drama|Thriller|War"
        ],
        [
         "8014",
         "97757",
         "'Hellboy': The Seeds of Creation (2004)",
         "Action|Adventure|Comedy|Documentary|Fantasy"
        ],
        [
         "5528",
         "26564",
         "'Round Midnight (1986)",
         "Drama|Musical"
        ],
        [
         "5690",
         "27751",
         "'Salem's Lot (2004)",
         "Drama|Horror|Mystery|Thriller"
        ],
        [
         "614",
         "779",
         "'Til There Was You (1997)",
         "Drama|Romance"
        ],
        [
         "9183",
         "149380",
         "'Tis the Season for Love (2015)",
         "Romance"
        ],
        [
         "1537",
         "2072",
         "'burbs, The (1989)",
         "Comedy"
        ],
        [
         "2353",
         "3112",
         "'night Mother (1986)",
         "Drama"
        ],
        [
         "7075",
         "69757",
         "(500) Days of Summer (2009)",
         "Comedy|Drama|Romance"
        ],
        [
         "5122",
         "8169",
         "*batteries not included (1987)",
         "Children|Comedy|Fantasy|Sci-Fi"
        ],
        [
         "4032",
         "5706",
         "...All the Marbles (1981)",
         "Comedy|Drama"
        ],
        [
         "2554",
         "3420",
         "...And Justice for All (1979)",
         "Drama|Thriller"
        ],
        [
         "9268",
         "157110",
         "00 Schneider - Jagd auf Nihil Baxter (1994)",
         "Comedy|Crime"
        ],
        [
         "674",
         "889",
         "1-900 (06) (1994)",
         "Drama|Romance"
        ],
        [
         "4497",
         "6658",
         "10 (1979)",
         "Comedy|Romance"
        ],
        [
         "8997",
         "139717",
         "10 Cent Pistol (2015)",
         "Crime|Thriller"
        ],
        [
         "9221",
         "152077",
         "10 Cloverfield Lane (2016)",
         "Thriller"
        ],
        [
         "6351",
         "49284",
         "10 Items or Less (2006)",
         "Comedy|Drama|Romance"
        ],
        [
         "1940",
         "2572",
         "10 Things I Hate About You (1999)",
         "Comedy|Romance"
        ],
        [
         "8037",
         "98230",
         "10 Years (2011)",
         "Comedy|Drama|Romance"
        ],
        [
         "6693",
         "58293",
         "10,000 BC (2008)",
         "Adventure|Romance|Thriller"
        ],
        [
         "4959",
         "7541",
         "100 Girls (2000)",
         "Comedy|Romance"
        ],
        [
         "9467",
         "168350",
         "100 Streets (2016)",
         "Drama"
        ],
        [
         "1052",
         "1367",
         "101 Dalmatians (1996)",
         "Adventure|Children|Comedy"
        ],
        [
         "1549",
         "2085",
         "101 Dalmatians (One Hundred and One Dalmatians) (1961)",
         "Adventure|Animation|Children"
        ],
        [
         "8662",
         "121099",
         "101 Dalmatians II: Patch's London Adventure (2003)",
         "Animation|Children"
        ],
        [
         "4343",
         "6344",
         "101 Reykjavik (101 Reykjavík) (2000)",
         "Comedy|Drama|Romance"
        ],
        [
         "2979",
         "3991",
         "102 Dalmatians (2000)",
         "Children|Comedy"
        ],
        [
         "6597",
         "55391",
         "10th & Wolf (2006)",
         "Crime|Drama|Thriller"
        ],
        [
         "5627",
         "27251",
         "10th Kingdom, The (2000)",
         "Adventure|Comedy|Fantasy"
        ],
        [
         "3275",
         "4434",
         "10th Victim, The (La decima vittima) (1965)",
         "Action|Comedy|Sci-Fi|Thriller"
        ],
        [
         "5019",
         "7789",
         "11'09\"01 - September 11 (2002)",
         "Drama"
        ],
        [
         "5672",
         "27674",
         "11:14 (2003)",
         "Comedy|Crime|Drama|Mystery|Thriller"
        ],
        [
         "6972",
         "66320",
         "11th Hour, The (2007)",
         "Documentary"
        ],
        [
         "905",
         "1203",
         "12 Angry Men (1957)",
         "Drama"
        ],
        [
         "7332",
         "77846",
         "12 Angry Men (1997)",
         "Crime|Drama"
        ],
        [
         "9051",
         "141844",
         "12 Chairs (1971)",
         "Adventure|Comedy"
        ],
        [
         "9046",
         "141816",
         "12 Chairs (1976)",
         "Adventure|Comedy"
        ],
        [
         "7096",
         "70361",
         "12 Rounds (2009)",
         "Action|Thriller"
        ],
        [
         "8285",
         "105844",
         "12 Years a Slave (2013)",
         "Drama"
        ],
        [
         "7454",
         "81562",
         "127 Hours (2010)",
         "Adventure|Drama|Thriller"
        ],
        [
         "7579",
         "86142",
         "13 Assassins (Jûsan-nin no shikaku) (2010)",
         "Action"
        ],
        [
         "3506",
         "4792",
         "13 Ghosts (1960)",
         "Horror"
        ],
        [
         "4939",
         "7444",
         "13 Going on 30 (2004)",
         "Comedy|Fantasy|Romance"
        ],
        [
         "8978",
         "138210",
         "13 Hours (2016)",
         "Drama"
        ],
        [
         "8399",
         "110286",
         "13 Sins (2014)",
         "Horror|Thriller"
        ],
        [
         "6333",
         "48872",
         "13 Tzameti (2005)",
         "Film-Noir|Thriller"
        ],
        [
         "9405",
         "164917",
         "13th (2016)",
         "Documentary"
        ],
        [
         "2126",
         "2826",
         "13th Warrior, The (1999)",
         "Action|Adventure|Fantasy"
        ],
        [
         "6516",
         "53953",
         "1408 (2007)",
         "Drama|Horror|Thriller"
        ]
       ],
       "shape": {
        "columns": 3,
        "rows": 9742
       }
      },
      "text/html": [
       "<div>\n",
       "<style scoped>\n",
       "    .dataframe tbody tr th:only-of-type {\n",
       "        vertical-align: middle;\n",
       "    }\n",
       "\n",
       "    .dataframe tbody tr th {\n",
       "        vertical-align: top;\n",
       "    }\n",
       "\n",
       "    .dataframe thead th {\n",
       "        text-align: right;\n",
       "    }\n",
       "</style>\n",
       "<table border=\"1\" class=\"dataframe\">\n",
       "  <thead>\n",
       "    <tr style=\"text-align: right;\">\n",
       "      <th></th>\n",
       "      <th>movieId</th>\n",
       "      <th>title</th>\n",
       "      <th>genres</th>\n",
       "    </tr>\n",
       "  </thead>\n",
       "  <tbody>\n",
       "    <tr>\n",
       "      <th>8600</th>\n",
       "      <td>117867</td>\n",
       "      <td>'71 (2014)</td>\n",
       "      <td>Action|Drama|Thriller|War</td>\n",
       "    </tr>\n",
       "    <tr>\n",
       "      <th>8014</th>\n",
       "      <td>97757</td>\n",
       "      <td>'Hellboy': The Seeds of Creation (2004)</td>\n",
       "      <td>Action|Adventure|Comedy|Documentary|Fantasy</td>\n",
       "    </tr>\n",
       "    <tr>\n",
       "      <th>5528</th>\n",
       "      <td>26564</td>\n",
       "      <td>'Round Midnight (1986)</td>\n",
       "      <td>Drama|Musical</td>\n",
       "    </tr>\n",
       "    <tr>\n",
       "      <th>5690</th>\n",
       "      <td>27751</td>\n",
       "      <td>'Salem's Lot (2004)</td>\n",
       "      <td>Drama|Horror|Mystery|Thriller</td>\n",
       "    </tr>\n",
       "    <tr>\n",
       "      <th>614</th>\n",
       "      <td>779</td>\n",
       "      <td>'Til There Was You (1997)</td>\n",
       "      <td>Drama|Romance</td>\n",
       "    </tr>\n",
       "    <tr>\n",
       "      <th>...</th>\n",
       "      <td>...</td>\n",
       "      <td>...</td>\n",
       "      <td>...</td>\n",
       "    </tr>\n",
       "    <tr>\n",
       "      <th>1961</th>\n",
       "      <td>2600</td>\n",
       "      <td>eXistenZ (1999)</td>\n",
       "      <td>Action|Sci-Fi|Thriller</td>\n",
       "    </tr>\n",
       "    <tr>\n",
       "      <th>3920</th>\n",
       "      <td>5507</td>\n",
       "      <td>xXx (2002)</td>\n",
       "      <td>Action|Crime|Thriller</td>\n",
       "    </tr>\n",
       "    <tr>\n",
       "      <th>5882</th>\n",
       "      <td>33158</td>\n",
       "      <td>xXx: State of the Union (2005)</td>\n",
       "      <td>Action|Crime|Thriller</td>\n",
       "    </tr>\n",
       "    <tr>\n",
       "      <th>1866</th>\n",
       "      <td>2478</td>\n",
       "      <td>¡Three Amigos! (1986)</td>\n",
       "      <td>Comedy|Western</td>\n",
       "    </tr>\n",
       "    <tr>\n",
       "      <th>3947</th>\n",
       "      <td>5560</td>\n",
       "      <td>À nous la liberté (Freedom for Us) (1931)</td>\n",
       "      <td>Comedy|Musical</td>\n",
       "    </tr>\n",
       "  </tbody>\n",
       "</table>\n",
       "<p>9742 rows × 3 columns</p>\n",
       "</div>"
      ],
      "text/plain": [
       "      movieId                                      title  \\\n",
       "8600   117867                                 '71 (2014)   \n",
       "8014    97757    'Hellboy': The Seeds of Creation (2004)   \n",
       "5528    26564                     'Round Midnight (1986)   \n",
       "5690    27751                        'Salem's Lot (2004)   \n",
       "614       779                  'Til There Was You (1997)   \n",
       "...       ...                                        ...   \n",
       "1961     2600                            eXistenZ (1999)   \n",
       "3920     5507                                 xXx (2002)   \n",
       "5882    33158             xXx: State of the Union (2005)   \n",
       "1866     2478                      ¡Three Amigos! (1986)   \n",
       "3947     5560  À nous la liberté (Freedom for Us) (1931)   \n",
       "\n",
       "                                           genres  \n",
       "8600                    Action|Drama|Thriller|War  \n",
       "8014  Action|Adventure|Comedy|Documentary|Fantasy  \n",
       "5528                                Drama|Musical  \n",
       "5690                Drama|Horror|Mystery|Thriller  \n",
       "614                                 Drama|Romance  \n",
       "...                                           ...  \n",
       "1961                       Action|Sci-Fi|Thriller  \n",
       "3920                        Action|Crime|Thriller  \n",
       "5882                        Action|Crime|Thriller  \n",
       "1866                               Comedy|Western  \n",
       "3947                               Comedy|Musical  \n",
       "\n",
       "[9742 rows x 3 columns]"
      ]
     },
     "execution_count": 385,
     "metadata": {},
     "output_type": "execute_result"
    }
   ],
   "source": [
    "movies.sort_values(['title', 'genres'], ascending=True)"
   ]
  }
 ],
 "metadata": {
  "kernelspec": {
   "display_name": "Python 3",
   "language": "python",
   "name": "python3"
  },
  "language_info": {
   "codemirror_mode": {
    "name": "ipython",
    "version": 3
   },
   "file_extension": ".py",
   "mimetype": "text/x-python",
   "name": "python",
   "nbconvert_exporter": "python",
   "pygments_lexer": "ipython3",
   "version": "3.13.5"
  }
 },
 "nbformat": 4,
 "nbformat_minor": 5
}
