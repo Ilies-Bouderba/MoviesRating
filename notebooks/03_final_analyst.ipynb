{
 "cells": [
  {
   "cell_type": "code",
   "execution_count": 4,
   "id": "aeebe713",
   "metadata": {},
   "outputs": [],
   "source": [
    "import pandas as pd\n",
    "market = pd.read_csv('../data/cleaned/cleaned_monster_com_job_sample.csv')"
   ]
  },
  {
   "cell_type": "code",
   "execution_count": 5,
   "id": "be9de832",
   "metadata": {},
   "outputs": [
    {
     "data": {
      "application/vnd.microsoft.datawrangler.viewer.v0+json": {
       "columns": [
        {
         "name": "index",
         "rawType": "int64",
         "type": "integer"
        },
        {
         "name": "uniq_id",
         "rawType": "object",
         "type": "string"
        },
        {
         "name": "job_title",
         "rawType": "object",
         "type": "string"
        },
        {
         "name": "job_description",
         "rawType": "object",
         "type": "string"
        },
        {
         "name": "job_type",
         "rawType": "object",
         "type": "string"
        },
        {
         "name": "sector",
         "rawType": "object",
         "type": "string"
        },
        {
         "name": "organization",
         "rawType": "object",
         "type": "string"
        },
        {
         "name": "city",
         "rawType": "object",
         "type": "string"
        },
        {
         "name": "state",
         "rawType": "object",
         "type": "string"
        },
        {
         "name": "date_added",
         "rawType": "object",
         "type": "string"
        },
        {
         "name": "salary",
         "rawType": "float64",
         "type": "float"
        },
        {
         "name": "has_expired",
         "rawType": "bool",
         "type": "boolean"
        }
       ],
       "ref": "95552370-7b8d-41eb-9003-9129fdd1b928",
       "rows": [
        [
         "0",
         "11d599f229a80023d2f40e7c52cd941e",
         "IT Support Technician Job in Madison",
         "TeamSoft is seeing an IT Support Specialist to join our client in Madison, WI. The ideal candidate must have at least 6 years of experience in the field. They need to be familiar with a variety of the field's concepts, practices, and procedures as this position relies on extensive experience and judgment to plan and accomplish goals. Required Skills:• Call tracking software• Phone based technical support• Problem documentation and communication• Remote Desktop Management Tools• Respond to customer requests• General understanding of LANDesk• Microsoft Office 2007 SuiteFind out why TeamSoft is the Madison area's technology leader with over 200 IT consultants. Owned, operated, and managed by IT consultants, TeamSoft is the clear choice for your career. Join the TeamSoft family today!Did you know?• TeamSoft offers salaried options for many positions that include 5 weeks PTO and great benefits!• TeamSoft has been in business since 1996• TeamSoft's owners are local IT professionals who possess a wealth of experience in application development, business analysis, and project management• TeamSoft's Recruiters are knowledgeable, friendly, and ready to help you make your next great career move• TeamSoft offers a full benefits suite to all of our W2 consultants, including a 401k plan with a 100% vested 4% dollar for dollar match• Our targeted selection process is designed to get to know your strengths and career interests and provide you with the best chance for success in your new position• Our longest running consultant has been with us for 16 years• Consultants can participate in our charitable giving committee. To date, TeamSoft's charitable giving committee has donated over $100,000!TeamSoft is owned by local IT professionals. Our team also has deep experience with IT staffing. Our clients understand this and rely on our expertise. That is why TeamSoft is the Madison Area's largest privately owned IT consulting firm, with more than 200 current consultants! With over 50 active clients, TeamSoft will give you the greatest exposure to the widest range of IT careers.Our owners possess a combined 60+ years of IT consulting experience. Our recruiting and Account Management staff are very well-versed in our client markets. We get you. We know you. We know what you do every day. And we know what you deal with on the job.You take your career seriously and so do we. At TeamSoft you are not just a resume or number. Our goal is to create long-term partnerships with each of our consultants, and according to feedback from many of them, we are very good at this. Click HERE to see what our consultants have to say about working with TeamSoft.TeamSoft -- Promote yourself!TeamSoft is an equal employment opportunity employer functioning under an Affirmative Action Plan.",
         "Full-time",
         "IT/Software Development",
         "Unknown",
         "Madison",
         "WI",
         "2023-01-01",
         "0.0",
         "False"
        ],
        [
         "1",
         "e4cbb126dabf22159aff90223243ff2a",
         "Business Reporter/Editor Job in Madison",
         "The Wisconsin State Journal is seeking a flexible and motivated reporter/editor to lead its three-person business desk. We’re looking for an experienced journalist able to spot trends, be a watchdog and reflect the Madison area’s vibrant entrepreneurial community. This is a hybrid reporting and editing position that calls for a fleet-footed, multimedia storyteller able to maximize the newspaper’s online presentation while also editing two sections a week. Candidates must have strong news judgment, be well versed in business news and trends and be able to quickly prioritize coverage.At least five years’ experience reporting or editing for digital and print platforms desired. To be considered for the position, applicants must apply online. As part of your online application, please attach five samples of your work or links to five recent stories.Wisconsin State Journal, 1901 Fish Hatchery Road, Madison, WI 53713Affirmative Action/Equal Opportunity Employer/Pre-employment drug testing appliesPI94338362Apply Here",
         "Full-time",
         "Unknown",
         "Printing and Publishing",
         "Madison",
         "WI",
         "2023-01-01",
         "0.0",
         "False"
        ],
        [
         "2",
         "839106b353877fa3d896ffb9c1fe01c0",
         "Johnson & Johnson Family of Companies Job Application for Senior Training Leader",
         "Report this job About the Job DePuy Synthes Companies is a member of Johnson & Johnson's Family of Companies, and is recruiting for a Senior Training Leader located in Raynham, MA.DePuy Synthes Companies of Johnson & Johnson is the largest, most innovative and comprehensive orthopedic and neurological business in the world. DePuy Synthes Companies offer an unparalleled breadth and depth of products, services and programs in the areas of joint reconstruction, trauma, spine, sports medicine, neurological, craniomaxillofacial, power tools and biomaterials. Building on the legacy and strengths of two great companies, more agile and better equipped to meet the needs of today’s evolving health care environment. With a focus on activating insights to develop innovative, comprehensive solutions, we are inspired to advance patient care in greater ways than either company could accomplish on its own.Position Overview• The Training Leader leads the site training function to develop and implement training programs that support company objectives and meet regulations.  Directs staff in the design and administration of training programs to train all levels of personnel. Keep abreast of training and development research, new materials, methods and techniques.  Develops programs and practices to identify developmental needs and monitor trends. Prepares personnel to increase effectiveness in present assignments and assume more responsibilities. Major Responsibilities & Duties:• Consults with management, employees, and departments to identify training needs, address them and achieve the end result of effective training solutions. • Recommends the creation or acquisition and delivery of training programs that meet the company's needs.• Implements training metrics to monitor training effectiveness against needs of the business. • Summarizes training program assessment data and participant attendance reports and submits or presents to management. • Supervises, coaches and develops assigned personnel. • Ensures that all assigned personnel have the education, training and experience, or a combination of these, in order to carry out all job duties and responsibilities.• Creates new training materials as required in collaboration with subject matter experts. • Communicates and escalates issues to the next management level as needed • Develops and maintains a training program to support the company needs and meet applicable local, federal and state laws/regulations.• As applicable is responsible for the site implementation of TWI (Training within Industry) methodology and others directed towards optimizing training practices across all operational areas. • Experience as subject matter trainer to conduct training sessions i.e. quality system related topics and to certify employees as trainers across the company. • Knowledge in Learning Management System (LMS) and its use to deploy training programs and requirements across the company. • Understands basic finance management to support managing site training budgets and capital projects if needed. • Application of Basic Project Management and/or Process Excellence knowledge and skills• Reviews, interprets and explains documents such as technical data, safety rules, operating and maintenance instructions, and procedure manuals. • Leads projects of moderate to high complexity• Performs any other task as required by Training ManagerQualifications• A minimum of a Bachelors Degree is required in Business, Education, Industrial Engineering or other related technical field. • 4 + years relevant working experience in training positions is required • A minimum of 2 years of people management experience is required• Experience working in an FDA and/or European regulatory environment is preferred. • This position will require relevant experience working in manufacturing/operations or R&D/new product development. • Proven experience designing and presenting successful training programs. • Ability to clarify and summarize regulatory documents into formats to execute trainings• Certified in TWI (Training within Industry Methodology) is preferred• ASQ (American Society for Quality)/ PE (Process Excellence) or equivalent certifications are preferred • A thorough understanding of GMP (Good Manufacturing Practices)/ISO (International Organization for Standardization) regulations is preferred. • Strong leadership and coaching skills are required. • Demonstrated project management abilities are required.• Excellent communication skills• Proficient in Microsoft Office —Word, Excel, and PowerPoint• This position may require up to 10% travel and will be based in Raynham, MA.BE VITAL in your career.  Be seen for the talent you bring to your work. Explore opportunities within the Johnson & Johnson Family of Companies.Primary LocationUnited States-Massachusetts-RaynhamOrganizationDepuy Orthopaedics. Inc. (6029)Job FunctionQuality (Generalist) Report Previous Next {\"Caption\":\"\",\"Images\":[{\"Src\":\"http://images.monster.com/mm/xjjsonx/cjt1/Carousel-5.png\",\"Title\":null,\"Text\":null,\"Caption\":null},{\"Src\":\"http://images.monster.com/mm/xjjsonx/cjt1/Carousel-1.png\",\"Title\":null,\"Text\":null,\"Caption\":null},{\"Src\":\"http://images.monster.com/mm/xjjsonx/cjt1/Carousel-2.png\",\"Title\":null,\"Text\":null,\"Caption\":null},{\"Src\":\"http://images.monster.com/mm/xjjsonx/cjt1/Carousel-3.png\",\"Title\":null,\"Text\":null,\"Caption\":null},{\"Src\":\"http://images.monster.com/mm/xjjsonx/cjt1/Carousel-4.png\",\"Title\":null,\"Text\":null,\"Caption\":null}]} ‹ › ×",
         "Full-time",
         "Unknown",
         "Personal and Household Services",
         "DePuy Synthes Companies is a member of Johnson & Johnson's Family of Companies",
         "MA",
         "2023-01-01",
         "0.0",
         "False"
        ],
        [
         "3",
         "58435fcab804439efdcaa7ecca0fd783",
         "Engineer - Quality Job in Dixon",
         "Why Join Altec? If you’re considering a career with Altec, Inc., there’s never been a better time to join us! Our Company was founded based upon values that place the customer first, and view people as our greatest strength. Altec has continued to grow, utilizing the same basic values, and over the years, those values have helped us to earn the trust and confidence of our customers worldwide. We remain committed to total customer satisfaction in everything we do. That’s why today, Altec is an innovative, financially sound company that is setting the standard of excellence in design, manufacturing and service; and that’s why you can rely on us to provide you with the stability of a well managed company.Our Company:Altec Inc., founded in 1929, is a privately held company headquartered in Birmingham, Alabama.Altec specializes in the manufacture, sale and service of aerial devices, digger derricks, cranes and specialty equipment for the electric utility, telecommunications, tree care, construction, and light and sign maintenance industries in more than 120 countries.At Altec, advanced technology efforts are aimed, without exception, at helping customers work “Safer and Smarter.” Altec invests more resources than any other manufacturer in the advancement of safety, reliability, uptime and low cost of ownership.Our Values Sustain Our Vision:Altec continues to pursue a singular vision: To be recognized by customers as the preferred supplier of products, services and solutions in all markets we serve. Our values sustain that vision, our goals build upon it and our associates help to achieve it. Altec’s values are the cornerstone of our corporate culture and every Altec associate is considered an integral part of Team Altec.Our Values (in alphabetical order): Customer First, Enjoyment of Work, Family, Financial Stability, Integrity, People Are Our Greatest Strength, Quality, Spiritual Development, Teamwork. Your Organization Final Assembly Engineering:From customer interaction and new product creation to the implementation of manufacturing processes, Altec Engineers are leading the industry.Final Assembly Engineers design the structural, mechanical, electrical and hydraulic systems for truck mounted equipment. Responsibilities PURPOSE OF POSITION:The incumbent works in an entry-level capacity under the guidance of more expernienced engineer and associates.  MAJOR RESPONSIBILITIES:• Learns Altec’s product lines and systems/rules/processes required for different Engineering roles at Altec.• Practices prudent engineering and effectively apply formal engineering training adding to the overall effectiveness of the Engineering Group and enhancement of Altec’s position within the product line• Participates and contribute productively as part of Altec’s team-oriented design, manufacture and customer service/support efforts• Operates with appropriate entry-level decision-making latitude within the scope of an assignment• Knows and applies fundamental concepts, practices, and procedures in the engineering field• Communicates with customers on issues of technical specifications, product design and operation as appropriate• Provides technical support to sales associates• Supports Operations, Sales, and Service• Interfaces directly with Suppliers and Customers• Learns and Utilize Lean principles to improve our products and processes• Works on various sizes of Altec projects• Works within any of the Altec departments as assigned to grow knowledge and skill for future Altec positionsEDUCATION, EXPERIENCE, AND SKILLS REQUIRED:• Bachelor's Degree in Engineering required.• EIT registration or ability to obtain registration required.• Current valid Driver's License• Excellent written and verbal communication skills• Must be able to work with team members and work with minimal supervision• Must be willing to travel up to 25% of the time, potentially on short notice, which may include flying.FINANCIAL BUDGETING, CAPITAL, AND/OR MANPOWER RESPONSIBILITIES:• NoneOTHER POSITION SPECIFICATIONS:• Demonstrated record of responsibility• Extremely detail oriented• Customer Service Oriented• Motivated, goal oriented and persistent• Maintain Company confidentiality• Must handle stress and deadlines well• Participate in Continuous Improvement InitiativesResponsibility for Safety:• Safety In everything we doResponsibility to Prevent Errors:• Ensures appropriate reviews have been performed as needed for high quality Mental Alertness:• Continuous attention to all job functions ensuring quality productsCommunication with Others:• Requires outside and inside contacts to carry out company policy and programs;  Improper handling will have considerable effect on operational results;  Must often deal with matters requiring explanation, persuasion and obtaining of approvals Benefits Altec offers a competitive salary that rewards performance and dedication, along with a comprehensive benefits package that includes:          • Medical, Dental and Prescription Drug Program          • Retirement 401(k) Program          • Vacation and Holidays          • Flexible Spending Accounts          • Tuition Assistance Program          • Employee Assistance and Mental Health/Substance Abuse Program          • Life Insurance, Accidental Death and Dismemberment Insurance EEO Statement Altec Industries, Inc. and its affiliates are equal opportunity employers and maintain affirmative action plans to recruit, retain, develop, and promote qualified individuals without unlawful consideration of race, gender, color, religion, sexual orientation, gender identity, national origin, age, disability, citizenship status, veteran status, or any other characteristic protected by federal, state or local law. Altec strives to maintain a work environment free from unlawful discrimination and harassment, where associates are treated with respect and dignity.",
         "Full-time",
         "Experienced (Non-Manager)",
         "Altec Industries",
         "Dixon",
         "CA",
         "2023-01-01",
         "0.0",
         "False"
        ],
        [
         "4",
         "64d0272dc8496abfd9523a8df63c184c",
         "Shift Supervisor - Part-Time Job in Camphill",
         "Position ID#  76162 # Positions  1 State  CT City  Fairfield Category  Store Associates - Shift Supervisor Store #  10386 Shift  .. The primary purpose of this position is to provide direction and assistance in the completion of daily merchandise and operating tasks and to perform such other duties as assigned by the Store Manager and/or Assistant Store Manager. The incumbent is required to perform all tasks in a safe manner consistent with corporate policies and applicable laws. This position does not involve, hiring, firing, or disciplining associates or recommending any such action. Situations surrounding these issues should be brought to the attention of the Store Manager and/or Assistant Store Manager.   The associate is responsible for the functions below, in addition to other duties as assigned:   • Provide superior customer service by assisting customers with their shopping needs, handling all customer transactions in a timely and courteous manner, and responding to customer complaints/concerns with a sense of urgency to see to their resolution. • Attend to merchandising of plan-o-grams within seasonal departments, end caps, displays and basic inline departments as directed by the Store Manager and/or the Assistant Store Manager. • Control inventory by performing proper receiving and stocking including accurate cycle counting, processing merchandise transfers according to procedures, and reporting inventory problems to the Store Manager and/or Assistant Store Manager. • Accountable for store cash and other financial assets, reconciling cash register drawers, preparing deposits, and ordering changes from the bank as directed by the Store Manager and/or the Assistant Store Manager. • Assist with the general maintenance and appearance of the store by ensuring a safe and pleasing environment for both customers and associates; respond to any unexpected emergencies to ensure the protection of company assets. • Oversee that store inventory is regularly inspected in accordance with the Product Freshness Review Schedule as directed by the Store Manager and/or the Assistant Store Manager. • Ensure that all outdated product and product with less than 30 days until expiration is removed from the sales floor to be processed through the established returns process. • Manage tasks and supervise store associates in those limited circumstances when the Store Manager and/or Assistant Store Manager is unavailable.   Supervisory Experience This position involves managing tasks and supervising store associates in those limited circumstances when the Store Manager and/or Assistant Store Manager is unavailable. This position does not involve, hiring, firing, or disciplining associates or recommending any such action, which should be brought to the attention of the Store Manager and/or Assistant Store Manager.   *All duties described in this document are to be performed in keeping with the core values and service attributes consistent with the Rite Aid brand and strategy. The primary purpose of this position is to provide direction and assistance in the completion of daily merchandise and operating tasks and to perform such other duties as assigned by the Store Manager and/or Assistant Store Manager. The incumbent is required to perform all tasks in a safe manner consistent with corporate policies and applicable laws. This position does not involve, hiring, firing, or disciplining associates or recommending any such action. Situations surrounding these issues should be brought to the attention of the Store Manager and/or Assistant Store Manager.   The associate is responsible for the functions below, in addition to other duties as assigned:   • Provide superior customer service by assisting customers with their shopping needs, handling all customer transactions in a timely and courteous manner, and responding to customer complaints/concerns with a sense of urgency to see to their resolution. • Attend to merchandising of plan-o-grams within seasonal departments, end caps, displays and basic inline departments as directed by the Store Manager and/or the Assistant Store Manager. • Control inventory by performing proper receiving and stocking including accurate cycle counting, processing merchandise transfers according to procedures, and reporting inventory problems to the Store Manager and/or Assistant Store Manager. • Accountable for store cash and other financial assets, reconciling cash register drawers, preparing deposits, and ordering changes from the bank as directed by the Store Manager and/or the Assistant Store Manager. • Assist with the general maintenance and appearance of the store by ensuring a safe and pleasing environment for both customers and associates; respond to any unexpected emergencies to ensure the protection of company assets. • Oversee that store inventory is regularly inspected in accordance with the Product Freshness Review Schedule as directed by the Store Manager and/or the Assistant Store Manager. • Ensure that all outdated product and product with less than 30 days until expiration is removed from the sales floor to be processed through the established returns process. • Manage tasks and supervise store associates in those limited circumstances when the Store Manager and/or Assistant Store Manager is unavailable.   Supervisory Experience This position involves managing tasks and supervising store associates in those limited circumstances when the Store Manager and/or Assistant Store Manager is unavailable. This position does not involve, hiring, firing, or disciplining associates or recommending any such action, which should be brought to the attention of the Store Manager and/or Assistant Store Manager.   *All duties described in this document are to be performed in keeping with the core values and service attributes consistent with the Rite Aid brand and strategy. • In accordance with state law, candidates must satisfy minimum age requirements to sell and/or supervise the sale of alcohol and/or tobacco products. • Ability to pass drug test. • Committed to providing customer service that makes both internal and external customers feel welcome, important, and appreciated. • Ability to preserve confidentiality of information. • Ability and willingness to move with purpose and a strong sense of urgency. • Ability to work weekends on a regular basis. • Ability to work day or evening hours. • Accuracy and attention to detail. • Ability to organize and prioritize a variety of tasks/projects. • In accordance with state law, candidates must satisfy minimum age requirements to sell and/or supervise the sale of alcohol and/or tobacco products. • Ability to pass drug test. • Committed to providing customer service that makes both internal and external customers feel welcome, important, and appreciated. • Ability to preserve confidentiality of information. • Ability and willingness to move with purpose and a strong sense of urgency. • Ability to work weekends on a regular basis. • Ability to work day or evening hours. • Accuracy and attention to detail. • Ability to organize and prioritize a variety of tasks/projects. At least one (1) year of experience in retail, food service, restaurant or customer service industry, preferably at a supervisor level, and/or a two (2) year college degree.        ",
         "Full-time",
         "Project/Program Management",
         "Retail",
         "Camphill",
         "PA",
         "2023-01-01",
         "0.0",
         "False"
        ]
       ],
       "shape": {
        "columns": 11,
        "rows": 5
       }
      },
      "text/html": [
       "<div>\n",
       "<style scoped>\n",
       "    .dataframe tbody tr th:only-of-type {\n",
       "        vertical-align: middle;\n",
       "    }\n",
       "\n",
       "    .dataframe tbody tr th {\n",
       "        vertical-align: top;\n",
       "    }\n",
       "\n",
       "    .dataframe thead th {\n",
       "        text-align: right;\n",
       "    }\n",
       "</style>\n",
       "<table border=\"1\" class=\"dataframe\">\n",
       "  <thead>\n",
       "    <tr style=\"text-align: right;\">\n",
       "      <th></th>\n",
       "      <th>uniq_id</th>\n",
       "      <th>job_title</th>\n",
       "      <th>job_description</th>\n",
       "      <th>job_type</th>\n",
       "      <th>sector</th>\n",
       "      <th>organization</th>\n",
       "      <th>city</th>\n",
       "      <th>state</th>\n",
       "      <th>date_added</th>\n",
       "      <th>salary</th>\n",
       "      <th>has_expired</th>\n",
       "    </tr>\n",
       "  </thead>\n",
       "  <tbody>\n",
       "    <tr>\n",
       "      <th>0</th>\n",
       "      <td>11d599f229a80023d2f40e7c52cd941e</td>\n",
       "      <td>IT Support Technician Job in Madison</td>\n",
       "      <td>TeamSoft is seeing an IT Support Specialist to...</td>\n",
       "      <td>Full-time</td>\n",
       "      <td>IT/Software Development</td>\n",
       "      <td>Unknown</td>\n",
       "      <td>Madison</td>\n",
       "      <td>WI</td>\n",
       "      <td>2023-01-01</td>\n",
       "      <td>0.0</td>\n",
       "      <td>False</td>\n",
       "    </tr>\n",
       "    <tr>\n",
       "      <th>1</th>\n",
       "      <td>e4cbb126dabf22159aff90223243ff2a</td>\n",
       "      <td>Business Reporter/Editor Job in Madison</td>\n",
       "      <td>The Wisconsin State Journal is seeking a flexi...</td>\n",
       "      <td>Full-time</td>\n",
       "      <td>Unknown</td>\n",
       "      <td>Printing and Publishing</td>\n",
       "      <td>Madison</td>\n",
       "      <td>WI</td>\n",
       "      <td>2023-01-01</td>\n",
       "      <td>0.0</td>\n",
       "      <td>False</td>\n",
       "    </tr>\n",
       "    <tr>\n",
       "      <th>2</th>\n",
       "      <td>839106b353877fa3d896ffb9c1fe01c0</td>\n",
       "      <td>Johnson &amp; Johnson Family of Companies Job Appl...</td>\n",
       "      <td>Report this job About the Job DePuy Synthes Co...</td>\n",
       "      <td>Full-time</td>\n",
       "      <td>Unknown</td>\n",
       "      <td>Personal and Household Services</td>\n",
       "      <td>DePuy Synthes Companies is a member of Johnson...</td>\n",
       "      <td>MA</td>\n",
       "      <td>2023-01-01</td>\n",
       "      <td>0.0</td>\n",
       "      <td>False</td>\n",
       "    </tr>\n",
       "    <tr>\n",
       "      <th>3</th>\n",
       "      <td>58435fcab804439efdcaa7ecca0fd783</td>\n",
       "      <td>Engineer - Quality Job in Dixon</td>\n",
       "      <td>Why Join Altec? If you’re considering a career...</td>\n",
       "      <td>Full-time</td>\n",
       "      <td>Experienced (Non-Manager)</td>\n",
       "      <td>Altec Industries</td>\n",
       "      <td>Dixon</td>\n",
       "      <td>CA</td>\n",
       "      <td>2023-01-01</td>\n",
       "      <td>0.0</td>\n",
       "      <td>False</td>\n",
       "    </tr>\n",
       "    <tr>\n",
       "      <th>4</th>\n",
       "      <td>64d0272dc8496abfd9523a8df63c184c</td>\n",
       "      <td>Shift Supervisor - Part-Time Job in Camphill</td>\n",
       "      <td>Position ID#  76162 # Positions  1 State  CT C...</td>\n",
       "      <td>Full-time</td>\n",
       "      <td>Project/Program Management</td>\n",
       "      <td>Retail</td>\n",
       "      <td>Camphill</td>\n",
       "      <td>PA</td>\n",
       "      <td>2023-01-01</td>\n",
       "      <td>0.0</td>\n",
       "      <td>False</td>\n",
       "    </tr>\n",
       "  </tbody>\n",
       "</table>\n",
       "</div>"
      ],
      "text/plain": [
       "                            uniq_id  \\\n",
       "0  11d599f229a80023d2f40e7c52cd941e   \n",
       "1  e4cbb126dabf22159aff90223243ff2a   \n",
       "2  839106b353877fa3d896ffb9c1fe01c0   \n",
       "3  58435fcab804439efdcaa7ecca0fd783   \n",
       "4  64d0272dc8496abfd9523a8df63c184c   \n",
       "\n",
       "                                           job_title  \\\n",
       "0               IT Support Technician Job in Madison   \n",
       "1            Business Reporter/Editor Job in Madison   \n",
       "2  Johnson & Johnson Family of Companies Job Appl...   \n",
       "3                    Engineer - Quality Job in Dixon   \n",
       "4       Shift Supervisor - Part-Time Job in Camphill   \n",
       "\n",
       "                                     job_description   job_type  \\\n",
       "0  TeamSoft is seeing an IT Support Specialist to...  Full-time   \n",
       "1  The Wisconsin State Journal is seeking a flexi...  Full-time   \n",
       "2  Report this job About the Job DePuy Synthes Co...  Full-time   \n",
       "3  Why Join Altec? If you’re considering a career...  Full-time   \n",
       "4  Position ID#  76162 # Positions  1 State  CT C...  Full-time   \n",
       "\n",
       "                       sector                     organization  \\\n",
       "0     IT/Software Development                          Unknown   \n",
       "1                     Unknown          Printing and Publishing   \n",
       "2                     Unknown  Personal and Household Services   \n",
       "3   Experienced (Non-Manager)                 Altec Industries   \n",
       "4  Project/Program Management                           Retail   \n",
       "\n",
       "                                                city state  date_added  \\\n",
       "0                                            Madison    WI  2023-01-01   \n",
       "1                                            Madison    WI  2023-01-01   \n",
       "2  DePuy Synthes Companies is a member of Johnson...    MA  2023-01-01   \n",
       "3                                              Dixon    CA  2023-01-01   \n",
       "4                                           Camphill    PA  2023-01-01   \n",
       "\n",
       "   salary  has_expired  \n",
       "0     0.0        False  \n",
       "1     0.0        False  \n",
       "2     0.0        False  \n",
       "3     0.0        False  \n",
       "4     0.0        False  "
      ]
     },
     "execution_count": 5,
     "metadata": {},
     "output_type": "execute_result"
    }
   ],
   "source": [
    "market.head()"
   ]
  },
  {
   "cell_type": "markdown",
   "id": "b71205d7",
   "metadata": {},
   "source": [
    "# find the location that have the most job postings"
   ]
  },
  {
   "cell_type": "code",
   "execution_count": 13,
   "id": "853ea036",
   "metadata": {},
   "outputs": [],
   "source": [
    "location_with_the_most_jobs = market['state'].value_counts().head(10)\n",
    "location_with_the_most_jobs.to_csv('../data/final/location_with_the_most_jobs.csv')"
   ]
  },
  {
   "cell_type": "markdown",
   "id": "c01c6020",
   "metadata": {},
   "source": [
    "# find the most job posting type"
   ]
  },
  {
   "cell_type": "code",
   "execution_count": 16,
   "id": "e65525d1",
   "metadata": {},
   "outputs": [],
   "source": [
    "most_job_posting_type = market['job_type'].value_counts().head(10)\n",
    "most_job_posting_type.to_csv('../data/final/most_job_posting_type.csv')"
   ]
  },
  {
   "cell_type": "code",
   "execution_count": 25,
   "id": "dc9a5260",
   "metadata": {},
   "outputs": [],
   "source": [
    "most_sector_jobs = market['sector'].value_counts().head(10)\n",
    "most_sector_jobs.to_csv('../data/final/most_sector_jobs.csv')"
   ]
  },
  {
   "cell_type": "code",
   "execution_count": 28,
   "id": "1a8a46e7",
   "metadata": {},
   "outputs": [
    {
     "name": "stdout",
     "output_type": "stream",
     "text": [
      "job_type\n",
      "Full-time    18970\n",
      "Unknown       1628\n",
      "Part-time      993\n",
      "Other          212\n",
      "Contract       197\n",
      "Name: count, dtype: int64\n"
     ]
    }
   ],
   "source": [
    "print(market['job_type'].value_counts())"
   ]
  }
 ],
 "metadata": {
  "kernelspec": {
   "display_name": "Python 3",
   "language": "python",
   "name": "python3"
  },
  "language_info": {
   "codemirror_mode": {
    "name": "ipython",
    "version": 3
   },
   "file_extension": ".py",
   "mimetype": "text/x-python",
   "name": "python",
   "nbconvert_exporter": "python",
   "pygments_lexer": "ipython3",
   "version": "3.13.5"
  }
 },
 "nbformat": 4,
 "nbformat_minor": 5
}
